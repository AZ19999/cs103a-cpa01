{
 "cells": [
  {
   "cell_type": "markdown",
   "metadata": {},
   "source": [
    "# Video Game dataset\n",
    "This is a dataset with every video game that has sold over 100,000 copies, including various information like the publisher, platform, and genre for the game.\n",
    "\n",
    "Link: https://www.kaggle.com/gregorut/videogamesales\n",
    "\n",
    "The two questions I hope to answer in my analysis are:\n",
    "\n",
    "Which console has the most games with over 100,000 sales?\n",
    "\n",
    "Which genre has the most games with over 100,000 sales?"
   ]
  },
  {
   "cell_type": "code",
   "execution_count": null,
   "metadata": {},
   "outputs": [],
   "source": [
    "import pandas as pd"
   ]
  },
  {
   "cell_type": "markdown",
   "metadata": {},
   "source": [
    "# Part B\n",
    "\n",
    "Loading the data into the dataframe"
   ]
  },
  {
   "cell_type": "code",
   "execution_count": null,
   "metadata": {},
   "outputs": [],
   "source": [
    "games = pd.read_csv('vgsales.csv')\n",
    "gamesdf = pd.DataFrame(games)\n",
    "gamesdf.describe()"
   ]
  },
  {
   "cell_type": "markdown",
   "metadata": {},
   "source": [
    "# Part C(1)\n",
    "Print the array of columns and the index array"
   ]
  },
  {
   "cell_type": "code",
   "execution_count": null,
   "metadata": {},
   "outputs": [],
   "source": [
    "gamesdf.columns"
   ]
  },
  {
   "cell_type": "code",
   "execution_count": null,
   "metadata": {},
   "outputs": [],
   "source": [
    "list(gamesdf.index)"
   ]
  },
  {
   "cell_type": "markdown",
   "metadata": {},
   "source": [
    "# Part C(2)\n",
    "\n",
    "Plot some part of the data\n",
    "\n",
    "I wanted to plot the top 5 platforms with the most entries."
   ]
  },
  {
   "cell_type": "code",
   "execution_count": null,
   "metadata": {},
   "outputs": [],
   "source": [
    "gamesgrouped = gamesdf.groupby(\"Platform\")['Name'].count()\n",
    "gamesgroupedsorted = gamesgrouped.sort_values(ascending = False)\n",
    "gamesgroupedsortedhead = gamesgroupedsorted.head()\n",
    "\n",
    "graph = gamesgroupedsortedhead.plot.bar(x='lab', y='val', title=\"Top 5 consoles that have the most games with over 100k copies sold\", legend = True, label = \"number of games\")\n",
    "graph.set_ylabel(\"Number of games\")"
   ]
  },
  {
   "cell_type": "markdown",
   "metadata": {},
   "source": [
    "# Part C(3)\n",
    "\n",
    "Create a pivot table and plot some data from that pivot table"
   ]
  },
  {
   "cell_type": "code",
   "execution_count": null,
   "metadata": {},
   "outputs": [],
   "source": [
    "gamept = pd.pivot_table(gamesdf,values = \"Global_Sales\",  index = [\"Year\"], columns = [\"Platform\"], aggfunc ='sum')\n",
    "gameptcondensed = gamept.loc[:,gamept.columns[gamept.iloc[20] > 0]]\n",
    "gameptcondensed"
   ]
  },
  {
   "cell_type": "code",
   "execution_count": null,
   "metadata": {},
   "outputs": [],
   "source": [
    "graph2 = gameptcondensed[['N64','PS','PC']].plot(figsize=(15,10), title=\"Comparing 3 platforms on their yearly global sales\")\n",
    "graph2.set_ylabel(\"Sales\")"
   ]
  },
  {
   "cell_type": "markdown",
   "metadata": {},
   "source": [
    "# Part C(4)\n",
    "\n",
    "Use the groupby feature\n",
    "\n",
    "I wanted to figure out which Genre had the most 100k games here"
   ]
  },
  {
   "cell_type": "code",
   "execution_count": null,
   "metadata": {},
   "outputs": [],
   "source": [
    "gamesgrouped = gamesdf.groupby(\"Genre\")['Name'].count()\n",
    "gamesgroupedsorted = gamesgrouped.sort_values(ascending = False)\n",
    "gamesgroupedsorted"
   ]
  },
  {
   "cell_type": "markdown",
   "metadata": {},
   "source": [
    "# Conclusion\n",
    "\n",
    "For the two questions I asked at the start here is what I found:\n",
    "\n",
    "Question 1:\n",
    "    For the console with the most games that sold over 100,000 copies, it was an extermely close race between the Nintendo DS and the Sony Playstation. In Part C(2), we can clearly see that the two are miles ahead of the competition though something interesting to note is that the Sony Playstation 2 and Nintendo Wii are the third and fourth places respectively, meaning that those two companies are responsible for creating some of the most widely recognized and used platforms for games of all time. No other company can come close to their numbeers.\n",
    "\n",
    "Question 2:\n",
    "    As for the Genre that had the most games that sold over 100,000 copies, we can see in Part C(4) that the race is less close with Action games in the lead with sports claiming a more distant second. For me this makes sense since a lot of video games, especially older and more recognizable ones feature action in some way. Some examples include the Halo, Call of duty, Legend of Zelda series. All are very popular and feature some form of action based combat in their primary gameplay loop. Sports also makes sense to me because sports leagues like NFL, NBA, Fifa, and F1 are all very popular globally so it only makes sense that fans of those leagues would buy games to support them. It should also be noted that the Misc. Genre gets third place here as well, meaning that perhaps there is some favor towards games that try to push the limits of innovation rather than sticking to more normal genres.\n",
    "\n",
    "For Part C(3), I picked those 3 consoles mainly because I was just interested in How Sony and Nintendo would compare to PC over a longer period of time. It was really interesting to see that the latter two had huge peaks, but in the end tapered off most likely due to newer generations of consoles being released. PC, on the other hand, doesn't suffer from this and we can see that through a relatively consistent, albeit lower, rate of sales over time."
   ]
  }
 ],
 "metadata": {
  "kernelspec": {
   "display_name": "Python 3 (ipykernel)",
   "language": "python",
   "name": "python3"
  },
  "language_info": {
   "codemirror_mode": {
    "name": "ipython",
    "version": 3
   },
   "file_extension": ".py",
   "mimetype": "text/x-python",
   "name": "python",
   "nbconvert_exporter": "python",
   "pygments_lexer": "ipython3",
   "version": "3.9.7"
  }
 },
 "nbformat": 4,
 "nbformat_minor": 4
}
